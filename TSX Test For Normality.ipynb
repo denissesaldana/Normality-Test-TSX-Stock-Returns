{
 "cells": [
  {
   "cell_type": "markdown",
   "id": "c3aa2087",
   "metadata": {},
   "source": [
    "# **Normality Testing: TSX Stock Returns**    \n",
    "\n",
    "\n",
    "\n",
    "This notebook calculates the daily returns of the companies in the TSX and tests whether the simple daily returns are normally distributed. A normally distributed dataset is symmetric around the mean and follows the shape of a bell curve. If daily returns are normally distributed, we can expect the returns that are near around the mean to be more likely to happen than returns that are farther from the mean. \n",
    "\n",
    "\n",
    "There are two approaches to test for normality: visual and numerical. This notebook will use both methods. \n",
    "\n",
    "\n",
    "The below function will first output the visual tests which are: histogram, boxplot and Q-Q plot. If the returns follow a normal distribution, the histogram will follow a symmetric bell curve. The boxplot is useful to visualize the outliers which are the black circles. The Q-Q plot shows a red line which is the \"normal distribution\". If the blue dots deviate from the red line, the dataset is not normally distributed.    \n",
    "\n",
    "\n",
    "For the numerical tests, the function will output the p-value of the Jarque Bera and Shapiro Wilk tests. The Jarque Bera test works best with a large dataset (minimum 2000 points). It checks for skewness and kurtosis. The null hypothesis is that the data is normally distributed. If the p-value results to be less than .05, we will have to reject the null hypothesis as there is enough evidence that the data doesn’t follow a normal distribution. The Shapiro Wilk test’s null hypothesis is that the data follows a normally distribution as well. If the p-value is less than .05, we will have to reject the null and say that there's enough evidence that the data is not normally distributed. "
   ]
  },
  {
   "cell_type": "code",
   "execution_count": 1,
   "id": "1680d182",
   "metadata": {},
   "outputs": [],
   "source": [
    "#Import libraries \n",
    "\n",
    "import yfinance as yf\n",
    "import pandas as pd\n",
    "import matplotlib.pyplot as plt\n",
    "import pylab\n",
    "import scipy.stats as stats\n",
    "from scipy.stats import jarque_bera"
   ]
  },
  {
   "cell_type": "code",
   "execution_count": 2,
   "id": "763fde0b",
   "metadata": {},
   "outputs": [],
   "source": [
    "#Define function that inputs the ticker. The function will return a histogram, boxplot, Q-Q plot, p-value of Jarque Bera\n",
    "#test, and p-value of Shapiro Wilk test. \n",
    "\n",
    "def normality_test(symbol):\n",
    "    \n",
    "    ticker = yf.Ticker(symbol)\n",
    "    \n",
    "    hist = ticker.history(period = 'max')\n",
    "    \n",
    "    df = pd.DataFrame(hist['Close'])\n",
    "    df.dropna(inplace = True)\n",
    "    df['diff'] = df['Close'].diff()\n",
    "    df['return'] = df['diff'] / df['Close']\n",
    "    df.dropna(inplace = True)\n",
    "    \n",
    "    print('Histogram')\n",
    "    plot1 = plt.hist(df['return'])\n",
    "    plt.show(plot1)\n",
    "    \n",
    "    print('************************************************************************************************')\n",
    "    \n",
    "    print('Boxplot')\n",
    "    plot2 = plt.boxplot(df['return'],vert = False)\n",
    "    plt.show()\n",
    "    \n",
    "    print('************************************************************************************************')\n",
    "    \n",
    "    print('Q-Q Plot')\n",
    "    plot3 = stats.probplot(df['return'], dist = 'norm',plot = pylab)\n",
    "    plt.show()\n",
    "    \n",
    "    print('************************************************************************************************')\n",
    "    \n",
    "    print('Jarque Bera Test')\n",
    "    jb = jarque_bera(df['return'])\n",
    "    print('Number of values: ',len(df))\n",
    "    print('statistic: ',jb[0])\n",
    "    print('p-value: ',jb[1])\n",
    "    \n",
    "    if jb[1] > .05:\n",
    "        print('Fail to reject null hypothesis')\n",
    "    else:\n",
    "        print('Reject null hypothesis')\n",
    "        \n",
    "    print('************************************************************************************************')\n",
    "    \n",
    "    print('Shapiro Wilk Test')\n",
    "    sw = stats.kstest(df['return'], 'norm')\n",
    "    print('statistic :', sw[0])\n",
    "    print('p-value :', sw[1])\n",
    "    \n",
    "    if sw[1] > .05:\n",
    "        print('Fail to reject null hypothesis')\n",
    "    else:\n",
    "        print('Reject null hypothesis')"
   ]
  },
  {
   "cell_type": "code",
   "execution_count": 3,
   "id": "3248e5bf",
   "metadata": {},
   "outputs": [
    {
     "name": "stdout",
     "output_type": "stream",
     "text": [
      "Histogram\n"
     ]
    },
    {
     "data": {
      "image/png": "[encoded data removed]",
      "text/plain": [
       "<Figure size 432x288 with 1 Axes>"
      ]
     },
     "metadata": {
      "needs_background": "light"
     },
     "output_type": "display_data"
    },
    {
     "name": "stdout",
     "output_type": "stream",
     "text": [
      "************************************************************************************************\n",
      "Boxplot\n"
     ]
    },
    {
     "data": {
      "image/png": "[encoded data removed]",
      "text/plain": [
       "<Figure size 432x288 with 1 Axes>"
      ]
     },
     "metadata": {
      "needs_background": "light"
     },
     "output_type": "display_data"
    },
    {
     "name": "stdout",
     "output_type": "stream",
     "text": [
      "************************************************************************************************\n",
      "Q-Q Plot\n"
     ]
    },
    {
     "data": {
      "image/png": "[encoded data removed]",
      "text/plain": [
       "<Figure size 432x288 with 1 Axes>"
      ]
     },
     "metadata": {
      "needs_background": "light"
     },
     "output_type": "display_data"
    },
    {
     "name": "stdout",
     "output_type": "stream",
     "text": [
      "************************************************************************************************\n",
      "Jarque Bera Test\n",
      "Number of values:  6799\n",
      "statistic:  44305.66401269277\n",
      "p-value:  0.0\n",
      "Reject null hypothesis\n",
      "************************************************************************************************\n",
      "Shapiro Wilk Test\n",
      "statistic : 0.47638081693752043\n",
      "p-value : 0.0\n",
      "Reject null hypothesis\n"
     ]
    }
   ],
   "source": [
    "#Call the normality_test function with the ticker as parameter. \n",
    "normality_test('RY.TO')"
   ]
  },
  {
   "cell_type": "markdown",
   "id": "5d39f987",
   "metadata": {},
   "source": [
    "## Results\n",
    "\n",
    "As per the results, the simple daily returns of the stocks from the TSX don’t follow a normal distribution. The function calculates stock returns since inception and the time horizon is too wide that outliers results in long tails. This can be viewed more clearly in the boxplot as the black circles are the outliers. Outliers or random sharp changes in stock prices make the distribution asymmetric. \n",
    "\n",
    "\n",
    "Further analysis of returns and normal distribution can be done with a transformed dataset such as log transformation."
   ]
  },
  {
   "cell_type": "code",
   "execution_count": null,
   "id": "9d04e53d",
   "metadata": {},
   "outputs": [],
   "source": []
  }
 ],
 "metadata": {
  "kernelspec": {
   "display_name": "Python 3",
   "language": "python",
   "name": "python3"
  },
  "language_info": {
   "codemirror_mode": {
    "name": "ipython",
    "version": 3
   },
   "file_extension": ".py",
   "mimetype": "text/x-python",
   "name": "python",
   "nbconvert_exporter": "python",
   "pygments_lexer": "ipython3",
   "version": "3.8.8"
  }
 },
 "nbformat": 4,
 "nbformat_minor": 5
}
